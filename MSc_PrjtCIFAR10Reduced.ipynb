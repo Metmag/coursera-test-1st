{
  "nbformat": 4,
  "nbformat_minor": 0,
  "metadata": {
    "colab": {
      "provenance": [],
      "machine_shape": "hm",
      "include_colab_link": true
    },
    "kernelspec": {
      "name": "python3",
      "display_name": "Python 3"
    },
    "language_info": {
      "name": "python"
    },
    "accelerator": "GPU",
    "gpuClass": "premium"
  },
  "cells": [
    {
      "cell_type": "markdown",
      "metadata": {
        "id": "view-in-github",
        "colab_type": "text"
      },
      "source": [
        "<a href=\"https://colab.research.google.com/github/Metmag/coursera-test-1st/blob/main/MSc_PrjtCIFAR10Reduced.ipynb\" target=\"_parent\"><img src=\"https://colab.research.google.com/assets/colab-badge.svg\" alt=\"Open In Colab\"/></a>"
      ]
    },
    {
      "cell_type": "code",
      "execution_count": null,
      "metadata": {
        "id": "jkzs7UTML0Gj"
      },
      "outputs": [],
      "source": [
        "import tensorflow as tf\n",
        "from tensorflow import keras\n",
        "import matplotlib .pyplot as plt\n",
        "import os\n",
        "import time\n"
      ]
    },
    {
      "cell_type": "code",
      "source": [
        "#lOAD THE cifar10 dataset wihich is hoisted in kears library\n",
        "(train_images, train_labels), (test_images, test_labels) = keras.datasets.cifar10.load_data()"
      ],
      "metadata": {
        "id": "1ZrA8qzZPktj",
        "colab": {
          "base_uri": "https://localhost:8080/"
        },
        "outputId": "a56a1bd5-5c9d-4f6c-87fa-fe6f247da5b6"
      },
      "execution_count": null,
      "outputs": [
        {
          "output_type": "stream",
          "name": "stdout",
          "text": [
            "Downloading data from https://www.cs.toronto.edu/~kriz/cifar-10-python.tar.gz\n",
            "170498071/170498071 [==============================] - 3s 0us/step\n"
          ]
        }
      ]
    },
    {
      "cell_type": "code",
      "source": [
        "#View the dataset shape and channels\n",
        "train_images.shape"
      ],
      "metadata": {
        "colab": {
          "base_uri": "https://localhost:8080/"
        },
        "id": "8AoBqaLkQPOD",
        "outputId": "4aadf749-dc72-4b5c-8f43-3ad25838f3af"
      },
      "execution_count": null,
      "outputs": [
        {
          "output_type": "execute_result",
          "data": {
            "text/plain": [
              "(50000, 32, 32, 3)"
            ]
          },
          "metadata": {},
          "execution_count": 3
        }
      ]
    },
    {
      "cell_type": "code",
      "source": [
        "train_labels.shape"
      ],
      "metadata": {
        "colab": {
          "base_uri": "https://localhost:8080/"
        },
        "id": "uCumV3FwQ_qQ",
        "outputId": "bb7525c6-ea91-40ab-8d5f-728e33d137bb"
      },
      "execution_count": null,
      "outputs": [
        {
          "output_type": "execute_result",
          "data": {
            "text/plain": [
              "(50000, 1)"
            ]
          },
          "metadata": {},
          "execution_count": 4
        }
      ]
    },
    {
      "cell_type": "code",
      "source": [
        "test_images.shape"
      ],
      "metadata": {
        "colab": {
          "base_uri": "https://localhost:8080/"
        },
        "id": "GlPH5FAwRDuB",
        "outputId": "d2e61561-1b5b-47da-9765-2176ca239e57"
      },
      "execution_count": null,
      "outputs": [
        {
          "output_type": "execute_result",
          "data": {
            "text/plain": [
              "(10000, 32, 32, 3)"
            ]
          },
          "metadata": {},
          "execution_count": 5
        }
      ]
    },
    {
      "cell_type": "code",
      "source": [
        "(Train_images, Train_labels ) = (train_images[:1500], train_labels[:1500] )"
      ],
      "metadata": {
        "id": "-gcnSqWK3Xdy"
      },
      "execution_count": null,
      "outputs": []
    },
    {
      "cell_type": "code",
      "source": [
        "(Test_images, Test_labels ) = (test_images[:1500], test_labels[:1500] )"
      ],
      "metadata": {
        "id": "J1S-UmiP6woG"
      },
      "execution_count": null,
      "outputs": []
    },
    {
      "cell_type": "code",
      "source": [
        "Train_images.shape"
      ],
      "metadata": {
        "colab": {
          "base_uri": "https://localhost:8080/"
        },
        "id": "gYnoSuqH7Dqt",
        "outputId": "631811a6-cd2a-4d8d-9c0b-752ceb3c2206"
      },
      "execution_count": null,
      "outputs": [
        {
          "output_type": "execute_result",
          "data": {
            "text/plain": [
              "(1500, 32, 32, 3)"
            ]
          },
          "metadata": {},
          "execution_count": 8
        }
      ]
    },
    {
      "cell_type": "code",
      "source": [
        "Train_labels.shape"
      ],
      "metadata": {
        "colab": {
          "base_uri": "https://localhost:8080/"
        },
        "id": "la_hCU7U9Mr8",
        "outputId": "4e7306f7-4d06-481d-d307-9c6c7f0cdd2d"
      },
      "execution_count": null,
      "outputs": [
        {
          "output_type": "execute_result",
          "data": {
            "text/plain": [
              "(1500, 1)"
            ]
          },
          "metadata": {},
          "execution_count": 9
        }
      ]
    },
    {
      "cell_type": "code",
      "source": [
        "Test_labels.shape"
      ],
      "metadata": {
        "colab": {
          "base_uri": "https://localhost:8080/"
        },
        "id": "COgA15ZK9Sd0",
        "outputId": "fa315c23-c66c-43ee-a537-66e39df4df0b"
      },
      "execution_count": null,
      "outputs": [
        {
          "output_type": "execute_result",
          "data": {
            "text/plain": [
              "(1500, 1)"
            ]
          },
          "metadata": {},
          "execution_count": 10
        }
      ]
    },
    {
      "cell_type": "code",
      "source": [
        "Test_images.shape"
      ],
      "metadata": {
        "colab": {
          "base_uri": "https://localhost:8080/"
        },
        "id": "972MnlTH7EFV",
        "outputId": "91eca2f7-6842-4d4a-bbef-74e7bed4359b"
      },
      "execution_count": null,
      "outputs": [
        {
          "output_type": "execute_result",
          "data": {
            "text/plain": [
              "(1500, 32, 32, 3)"
            ]
          },
          "metadata": {},
          "execution_count": 11
        }
      ]
    },
    {
      "cell_type": "code",
      "source": [
        "#CIFAR10 dataset came with 2 partitions: 50,000 training set and 10,000 test set.\n",
        "#We need to create a validation set of 5000 images\n",
        "(validation_labels, validation_images) = (train_labels[:400], train_images[:400])\n",
        "#(Train_images, Train_labels) = (train_images[1500:], train_labels[1500:])\n"
      ],
      "metadata": {
        "id": "_qBUB-8wY_BT"
      },
      "execution_count": null,
      "outputs": []
    },
    {
      "cell_type": "code",
      "source": [
        "Train_images.shape"
      ],
      "metadata": {
        "colab": {
          "base_uri": "https://localhost:8080/"
        },
        "id": "pe77MtOxc3rR",
        "outputId": "19412c1e-7266-4781-8465-ed078d361485"
      },
      "execution_count": null,
      "outputs": [
        {
          "output_type": "execute_result",
          "data": {
            "text/plain": [
              "(1500, 32, 32, 3)"
            ]
          },
          "metadata": {},
          "execution_count": 13
        }
      ]
    },
    {
      "cell_type": "code",
      "source": [
        "Train_labels.shape"
      ],
      "metadata": {
        "colab": {
          "base_uri": "https://localhost:8080/"
        },
        "id": "lkUuJYGfc9jB",
        "outputId": "1a1fd2b9-d358-4aa3-f5e0-3cfa05b1f4f6"
      },
      "execution_count": null,
      "outputs": [
        {
          "output_type": "execute_result",
          "data": {
            "text/plain": [
              "(1500, 1)"
            ]
          },
          "metadata": {},
          "execution_count": 14
        }
      ]
    },
    {
      "cell_type": "code",
      "source": [
        "validation_images.shape"
      ],
      "metadata": {
        "colab": {
          "base_uri": "https://localhost:8080/"
        },
        "id": "KyfqBGH9dEyR",
        "outputId": "948b5f29-c722-4a87-9b2a-55363336f624"
      },
      "execution_count": null,
      "outputs": [
        {
          "output_type": "execute_result",
          "data": {
            "text/plain": [
              "(400, 32, 32, 3)"
            ]
          },
          "metadata": {},
          "execution_count": 15
        }
      ]
    },
    {
      "cell_type": "code",
      "source": [
        "validation_labels.shape"
      ],
      "metadata": {
        "colab": {
          "base_uri": "https://localhost:8080/"
        },
        "id": "RgSvK-S4dLLY",
        "outputId": "733d023d-a7a4-4a76-ece8-75adf14c2525"
      },
      "execution_count": null,
      "outputs": [
        {
          "output_type": "execute_result",
          "data": {
            "text/plain": [
              "(400, 1)"
            ]
          },
          "metadata": {},
          "execution_count": 16
        }
      ]
    },
    {
      "cell_type": "code",
      "source": [
        "#create a variable name for the images for reference purposes\n",
        "classes = ['airplane', 'automobile','bird', 'cat', 'deer', 'dog', 'frog', 'horse', 'ship', 'truck']\n",
        "\n"
      ],
      "metadata": {
        "id": "6UlMrIRhRM2x"
      },
      "execution_count": null,
      "outputs": []
    },
    {
      "cell_type": "code",
      "source": [
        "#Transform our dataset into the form that correspond to TensorFlow Dataset representation.\n",
        "#By using tf.data.Dataset.form_tensor_slices method\n",
        "train_ds = tf.data.Dataset.from_tensor_slices((Train_images, Train_labels))\n",
        "test_ds = tf.data.Dataset.from_tensor_slices((Test_images, Test_labels))\n",
        "validation_ds = tf.data.Dataset.from_tensor_slices((validation_images, validation_labels))"
      ],
      "metadata": {
        "id": "q0TIRBoIg6uH"
      },
      "execution_count": null,
      "outputs": []
    },
    {
      "cell_type": "code",
      "source": [
        "#Visualize the images within the CIFAR10 dataset\n",
        "#Note: CIFAR10 images have poor resolutions.\n",
        "plt.figure(figsize=(20,20))\n",
        "for i, (image, label) in enumerate(train_ds.take(5)):\n",
        "    ax = plt.subplot(5,5,i+1)\n",
        "    plt.imshow(image)\n",
        "    plt.title(classes[label.numpy()[0]])\n",
        "    plt.axis('off')\n"
      ],
      "metadata": {
        "colab": {
          "base_uri": "https://localhost:8080/",
          "height": 234
        },
        "id": "8y_5knc-iLm4",
        "outputId": "ea853075-4418-4318-a1c5-39db05e1bfe2"
      },
      "execution_count": null,
      "outputs": [
        {
          "output_type": "display_data",
          "data": {
            "text/plain": [
              "<Figure size 1440x1440 with 5 Axes>"
            ],
            "image/png": "[encoded data removed]"
          },
          "metadata": {
            "needs_background": "light"
          }
        }
      ]
    },
    {
      "cell_type": "code",
      "source": [
        "#Normalizing and standardizing our images\n",
        "#Resizing the images from 32x32 to 227x227 for AlexNet model\n",
        "def process_images(image, label):\n",
        "  image = tf.image.per_image_standardization(image)\n",
        "  #\n",
        "  image = tf.image.resize(image, (227,227))\n",
        "  return image, label"
      ],
      "metadata": {
        "id": "7U7_7szx4KWq"
      },
      "execution_count": null,
      "outputs": []
    },
    {
      "cell_type": "code",
      "source": [
        "Train_images.shape"
      ],
      "metadata": {
        "colab": {
          "base_uri": "https://localhost:8080/"
        },
        "id": "qq7EBz0DKL4e",
        "outputId": "452ddd05-0baa-464e-b455-2fa11d9c7983"
      },
      "execution_count": null,
      "outputs": [
        {
          "output_type": "execute_result",
          "data": {
            "text/plain": [
              "(1500, 32, 32, 3)"
            ]
          },
          "metadata": {},
          "execution_count": 21
        }
      ]
    },
    {
      "cell_type": "code",
      "source": [
        "#Prepare the dataset for shuffling\n",
        "train_size = tf.data.experimental.cardinality(train_ds).numpy()\n",
        "test_size = tf.data.experimental.cardinality(test_ds).numpy()\n",
        "validation_size = tf.data.experimental.cardinality(validation_ds).numpy()\n",
        "print(\"Training size:\", train_size)\n",
        "print(\"Test_size:\", test_size)\n",
        "print(\"Validation_size:\", validation_size)"
      ],
      "metadata": {
        "colab": {
          "base_uri": "https://localhost:8080/"
        },
        "id": "f_U6LqHPW3a3",
        "outputId": "2188b4bf-5c8c-4684-f93a-df6684dc2ff6"
      },
      "execution_count": null,
      "outputs": [
        {
          "output_type": "stream",
          "name": "stdout",
          "text": [
            "Training size: 1500\n",
            "Test_size: 1500\n",
            "Validation_size: 400\n"
          ]
        }
      ]
    },
    {
      "cell_type": "code",
      "source": [
        "#Three primary ops:\n",
        "#1 Preprocessing the data within the dataset\n",
        "#2 Shuffle the dataset \n",
        "#Batch data within the dataset\n",
        "\n",
        "train_ds = (train_ds.map(process_images)\n",
        "                    .shuffle(buffer_size=train_size)\n",
        "                    .batch(batch_size=32, drop_remainder=True))\n",
        "test_ds = (test_ds.map(process_images)\n",
        "                  .shuffle(buffer_size=test_size)\n",
        "                  .batch(batch_size=32, drop_remainder=True))\n",
        "validation_ds = (validation_ds\n",
        "                 .map(process_images)\n",
        "                 .shuffle(buffer_size=validation_size)\n",
        "                 .batch(batch_size=32, drop_remainder=True))"
      ],
      "metadata": {
        "id": "TQMvHVQAKOjg"
      },
      "execution_count": null,
      "outputs": []
    },
    {
      "cell_type": "code",
      "source": [
        "#Model implementation of AlexNet include the following\n",
        "#Convolutional layer\n",
        "#Batch Normalisation layer\n",
        "#Maxpooling layer\n",
        "#Flatten layer\n",
        "#Dense layer\n",
        "#Activation function\n",
        "#ReLU\n",
        "#Softmax Activation Function\n",
        "#Drop out\n",
        "\n",
        "\n",
        "model = keras.models.Sequential([\n",
        "    keras.layers.Conv2D(filters=96, kernel_size=(11,11), strides=(4,4), activation='relu', input_shape=(227,227,3)),\n",
        "    keras.layers.BatchNormalization(),\n",
        "    keras.layers.MaxPool2D(pool_size=(3,3), strides=(2,2)),\n",
        "    keras.layers.Conv2D(filters=256, kernel_size=(5,5), strides=(1,1), activation='relu', padding=\"same\"),\n",
        "    keras.layers.BatchNormalization(),\n",
        "    keras.layers.MaxPool2D(pool_size=(3,3), strides=(2,2)),\n",
        "    keras.layers.Conv2D(filters=384, kernel_size=(3,3), strides=(1,1), activation='relu', padding=\"same\"),\n",
        "    keras.layers.BatchNormalization(),\n",
        "    keras.layers.Conv2D(filters=384, kernel_size=(3,3), strides=(1,1), activation='relu', padding=\"same\"),\n",
        "    keras.layers.BatchNormalization(),\n",
        "    keras.layers.Conv2D(filters=256, kernel_size=(3,3), strides=(1,1), activation='relu', padding=\"same\"),\n",
        "    keras.layers.BatchNormalization(),\n",
        "    keras.layers.MaxPool2D(pool_size=(3,3), strides=(2,2)),\n",
        "    keras.layers.Flatten(),\n",
        "    keras.layers.Dense(4096, activation='relu'),\n",
        "    keras.layers.Dropout(0.5),\n",
        "    keras.layers.Dense(4096, activation='relu'),\n",
        "    keras.layers.Dropout(0.5),\n",
        "    keras.layers.Dense(10, activation='softmax')\n",
        "])"
      ],
      "metadata": {
        "id": "I-pnWVDpeGPa"
      },
      "execution_count": null,
      "outputs": []
    },
    {
      "cell_type": "markdown",
      "source": [
        "**TensorBoard**"
      ],
      "metadata": {
        "id": "ENaQSzAhls-l"
      }
    },
    {
      "cell_type": "code",
      "source": [
        "#Computer tensorboard to monitor the progress netwotk training\n",
        "#For example training loss, training accuracy, validation loss, validation accuracy\n",
        "\n",
        "root_logdir = os.path.join(os.curdir, \"logs\\\\fit\\\\\")\n",
        "\n",
        "def get_run_logdir():\n",
        "  run_id = time.strftime(\"run_%Y_%m_%d-%H_%M_%S\")\n",
        "  return os.path.join(root_logdir, run_id)\n",
        "run_logdir = get_run_logdir()\n",
        "tensorboard_cb = keras.callbacks.TensorBoard(run_logdir)"
      ],
      "metadata": {
        "id": "Glj_CEkllrR9"
      },
      "execution_count": null,
      "outputs": []
    },
    {
      "cell_type": "code",
      "source": [
        "#Training the model involve incorporating the following parameter\n",
        "#Loss function\n",
        "#Optimisation algorithm\n",
        "#Learning rate\n",
        "model.compile(loss='sparse_categorical_crossentropy',\n",
        "              optimizer=tf.optimizers.SGD(lr=0.001), metrics=['accuracy'])\n",
        "model.summary()"
      ],
      "metadata": {
        "colab": {
          "base_uri": "https://localhost:8080/"
        },
        "id": "n5RjTojIfNOz",
        "outputId": "3062e72f-8dad-466b-a076-d28072b33cc7"
      },
      "execution_count": null,
      "outputs": [
        {
          "output_type": "stream",
          "name": "stdout",
          "text": [
            "Model: \"sequential\"\n",
            "_________________________________________________________________\n",
            " Layer (type)                Output Shape              Param #   \n",
            "=================================================================\n",
            " conv2d (Conv2D)             (None, 55, 55, 96)        34944     \n",
            "                                                                 \n",
            " batch_normalization (BatchN  (None, 55, 55, 96)       384       \n",
            " ormalization)                                                   \n",
            "                                                                 \n",
            " max_pooling2d (MaxPooling2D  (None, 27, 27, 96)       0         \n",
            " )                                                               \n",
            "                                                                 \n",
            " conv2d_1 (Conv2D)           (None, 27, 27, 256)       614656    \n",
            "                                                                 \n",
            " batch_normalization_1 (Batc  (None, 27, 27, 256)      1024      \n",
            " hNormalization)                                                 \n",
            "                                                                 \n",
            " max_pooling2d_1 (MaxPooling  (None, 13, 13, 256)      0         \n",
            " 2D)                                                             \n",
            "                                                                 \n",
            " conv2d_2 (Conv2D)           (None, 13, 13, 384)       885120    \n",
            "                                                                 \n",
            " batch_normalization_2 (Batc  (None, 13, 13, 384)      1536      \n",
            " hNormalization)                                                 \n",
            "                                                                 \n",
            " conv2d_3 (Conv2D)           (None, 13, 13, 384)       1327488   \n",
            "                                                                 \n",
            " batch_normalization_3 (Batc  (None, 13, 13, 384)      1536      \n",
            " hNormalization)                                                 \n",
            "                                                                 \n",
            " conv2d_4 (Conv2D)           (None, 13, 13, 256)       884992    \n",
            "                                                                 \n",
            " batch_normalization_4 (Batc  (None, 13, 13, 256)      1024      \n",
            " hNormalization)                                                 \n",
            "                                                                 \n",
            " max_pooling2d_2 (MaxPooling  (None, 6, 6, 256)        0         \n",
            " 2D)                                                             \n",
            "                                                                 \n",
            " flatten (Flatten)           (None, 9216)              0         \n"
          ]
        },
        {
          "output_type": "stream",
          "name": "stderr",
          "text": [
            "/usr/local/lib/python3.8/dist-packages/keras/optimizers/optimizer_v2/gradient_descent.py:108: UserWarning: The `lr` argument is deprecated, use `learning_rate` instead.\n",
            "  super(SGD, self).__init__(name, **kwargs)\n"
          ]
        },
        {
          "output_type": "stream",
          "name": "stdout",
          "text": [
            "                                                                 \n",
            " dense (Dense)               (None, 4096)              37752832  \n",
            "                                                                 \n",
            " dropout (Dropout)           (None, 4096)              0         \n",
            "                                                                 \n",
            " dense_1 (Dense)             (None, 4096)              16781312  \n",
            "                                                                 \n",
            " dropout_1 (Dropout)         (None, 4096)              0         \n",
            "                                                                 \n",
            " dense_2 (Dense)             (None, 10)                40970     \n",
            "                                                                 \n",
            "=================================================================\n",
            "Total params: 58,327,818\n",
            "Trainable params: 58,325,066\n",
            "Non-trainable params: 2,752\n",
            "_________________________________________________________________\n"
          ]
        }
      ]
    },
    {
      "cell_type": "code",
      "source": [
        "#.fit() method is used to train the algorithm\n",
        "#Epoch: the nmber of time AleNet network is exposed to all the data point in the training set.\n",
        "\n",
        "model.fit(train_ds,\n",
        "          epochs=50,\n",
        "          validation_data=validation_ds,\n",
        "          validation_freq=1,\n",
        "          callbacks=[tensorboard_cb])"
      ],
      "metadata": {
        "colab": {
          "base_uri": "https://localhost:8080/"
        },
        "id": "DcMvRRfhh2ix",
        "outputId": "69d0e141-a4d1-476a-a276-568f375cf65a"
      },
      "execution_count": null,
      "outputs": [
        {
          "output_type": "stream",
          "name": "stdout",
          "text": [
            "Epoch 1/50\n",
            "46/46 [==============================] - 276s 6s/step - loss: 3.8428 - accuracy: 0.1658 - val_loss: 2.2503 - val_accuracy: 0.1953\n",
            "Epoch 2/50\n",
            "46/46 [==============================] - 258s 6s/step - loss: 2.9168 - accuracy: 0.2418 - val_loss: 2.1254 - val_accuracy: 0.3229\n",
            "Epoch 3/50\n",
            "46/46 [==============================] - 278s 6s/step - loss: 2.5989 - accuracy: 0.2745 - val_loss: 1.9407 - val_accuracy: 0.4245\n",
            "Epoch 4/50\n",
            "46/46 [==============================] - 279s 6s/step - loss: 2.2768 - accuracy: 0.3111 - val_loss: 1.7090 - val_accuracy: 0.4792\n",
            "Epoch 5/50\n",
            "46/46 [==============================] - 270s 6s/step - loss: 2.0116 - accuracy: 0.3811 - val_loss: 1.4927 - val_accuracy: 0.5469\n",
            "Epoch 6/50\n",
            "46/46 [==============================] - 256s 6s/step - loss: 1.9003 - accuracy: 0.3961 - val_loss: 1.2563 - val_accuracy: 0.6302\n",
            "Epoch 7/50\n",
            "46/46 [==============================] - 258s 6s/step - loss: 1.7453 - accuracy: 0.4205 - val_loss: 1.1381 - val_accuracy: 0.6432\n",
            "Epoch 8/50\n",
            "46/46 [==============================] - 256s 6s/step - loss: 1.6917 - accuracy: 0.4355 - val_loss: 0.9801 - val_accuracy: 0.7135\n",
            "Epoch 9/50\n",
            "46/46 [==============================] - 258s 6s/step - loss: 1.4952 - accuracy: 0.4783 - val_loss: 0.8696 - val_accuracy: 0.7656\n",
            "Epoch 10/50\n",
            "46/46 [==============================] - 268s 6s/step - loss: 1.3827 - accuracy: 0.5115 - val_loss: 0.7839 - val_accuracy: 0.7917\n",
            "Epoch 11/50\n",
            "46/46 [==============================] - 265s 6s/step - loss: 1.3440 - accuracy: 0.5421 - val_loss: 0.6989 - val_accuracy: 0.8151\n",
            "Epoch 12/50\n",
            "46/46 [==============================] - 262s 6s/step - loss: 1.2496 - accuracy: 0.5598 - val_loss: 0.6189 - val_accuracy: 0.8594\n",
            "Epoch 13/50\n",
            "46/46 [==============================] - 256s 6s/step - loss: 1.2099 - accuracy: 0.5754 - val_loss: 0.6028 - val_accuracy: 0.8516\n",
            "Epoch 14/50\n",
            "46/46 [==============================] - 256s 6s/step - loss: 1.0617 - accuracy: 0.6311 - val_loss: 0.5099 - val_accuracy: 0.8984\n",
            "Epoch 15/50\n",
            "46/46 [==============================] - 255s 6s/step - loss: 1.0686 - accuracy: 0.6304 - val_loss: 0.4829 - val_accuracy: 0.8984\n",
            "Epoch 16/50\n",
            "46/46 [==============================] - 253s 5s/step - loss: 1.0007 - accuracy: 0.6529 - val_loss: 0.4549 - val_accuracy: 0.8958\n",
            "Epoch 17/50\n",
            "46/46 [==============================] - 250s 5s/step - loss: 0.9359 - accuracy: 0.6760 - val_loss: 0.3915 - val_accuracy: 0.9141\n",
            "Epoch 18/50\n",
            "46/46 [==============================] - 250s 5s/step - loss: 0.8604 - accuracy: 0.6977 - val_loss: 0.3567 - val_accuracy: 0.9427\n",
            "Epoch 19/50\n",
            "46/46 [==============================] - 257s 6s/step - loss: 0.8444 - accuracy: 0.7140 - val_loss: 0.3372 - val_accuracy: 0.9505\n",
            "Epoch 20/50\n",
            "46/46 [==============================] - 255s 6s/step - loss: 0.7957 - accuracy: 0.7174 - val_loss: 0.3148 - val_accuracy: 0.9531\n",
            "Epoch 21/50\n",
            "46/46 [==============================] - 251s 5s/step - loss: 0.7136 - accuracy: 0.7724 - val_loss: 0.2775 - val_accuracy: 0.9635\n",
            "Epoch 22/50\n",
            "46/46 [==============================] - 253s 5s/step - loss: 0.6699 - accuracy: 0.7697 - val_loss: 0.2525 - val_accuracy: 0.9792\n",
            "Epoch 23/50\n",
            "46/46 [==============================] - 245s 5s/step - loss: 0.6492 - accuracy: 0.7745 - val_loss: 0.2131 - val_accuracy: 0.9844\n",
            "Epoch 24/50\n",
            "46/46 [==============================] - 253s 6s/step - loss: 0.6276 - accuracy: 0.7880 - val_loss: 0.2031 - val_accuracy: 0.9974\n",
            "Epoch 25/50\n",
            "46/46 [==============================] - 261s 6s/step - loss: 0.5725 - accuracy: 0.8111 - val_loss: 0.1813 - val_accuracy: 0.9922\n",
            "Epoch 26/50\n",
            "46/46 [==============================] - 252s 5s/step - loss: 0.5153 - accuracy: 0.8261 - val_loss: 0.1594 - val_accuracy: 0.9948\n",
            "Epoch 27/50\n",
            "46/46 [==============================] - 251s 5s/step - loss: 0.5105 - accuracy: 0.8315 - val_loss: 0.1488 - val_accuracy: 0.9922\n",
            "Epoch 28/50\n",
            "46/46 [==============================] - 250s 5s/step - loss: 0.4907 - accuracy: 0.8322 - val_loss: 0.1353 - val_accuracy: 0.9974\n",
            "Epoch 29/50\n",
            "46/46 [==============================] - 249s 5s/step - loss: 0.4343 - accuracy: 0.8682 - val_loss: 0.1213 - val_accuracy: 1.0000\n",
            "Epoch 30/50\n",
            "46/46 [==============================] - 246s 5s/step - loss: 0.4149 - accuracy: 0.8696 - val_loss: 0.0998 - val_accuracy: 1.0000\n",
            "Epoch 31/50\n",
            "46/46 [==============================] - 250s 5s/step - loss: 0.4250 - accuracy: 0.8628 - val_loss: 0.0947 - val_accuracy: 1.0000\n",
            "Epoch 32/50\n",
            "46/46 [==============================] - 252s 5s/step - loss: 0.3943 - accuracy: 0.8811 - val_loss: 0.0844 - val_accuracy: 0.9974\n",
            "Epoch 33/50\n",
            "46/46 [==============================] - 251s 5s/step - loss: 0.3644 - accuracy: 0.8995 - val_loss: 0.0787 - val_accuracy: 1.0000\n",
            "Epoch 34/50\n",
            "46/46 [==============================] - 250s 5s/step - loss: 0.3336 - accuracy: 0.9049 - val_loss: 0.0713 - val_accuracy: 1.0000\n",
            "Epoch 35/50\n",
            "46/46 [==============================] - 251s 5s/step - loss: 0.3232 - accuracy: 0.9090 - val_loss: 0.0613 - val_accuracy: 1.0000\n",
            "Epoch 36/50\n",
            "46/46 [==============================] - 249s 5s/step - loss: 0.3177 - accuracy: 0.9124 - val_loss: 0.0589 - val_accuracy: 1.0000\n",
            "Epoch 37/50\n",
            "46/46 [==============================] - 250s 5s/step - loss: 0.3158 - accuracy: 0.9117 - val_loss: 0.0518 - val_accuracy: 1.0000\n",
            "Epoch 38/50\n",
            "46/46 [==============================] - 248s 5s/step - loss: 0.2693 - accuracy: 0.9266 - val_loss: 0.0501 - val_accuracy: 1.0000\n",
            "Epoch 39/50\n",
            "46/46 [==============================] - 246s 5s/step - loss: 0.2628 - accuracy: 0.9219 - val_loss: 0.0446 - val_accuracy: 1.0000\n",
            "Epoch 40/50\n",
            "46/46 [==============================] - 251s 5s/step - loss: 0.2683 - accuracy: 0.9293 - val_loss: 0.0389 - val_accuracy: 1.0000\n",
            "Epoch 41/50\n",
            "46/46 [==============================] - 248s 5s/step - loss: 0.2653 - accuracy: 0.9239 - val_loss: 0.0366 - val_accuracy: 1.0000\n",
            "Epoch 42/50\n",
            "46/46 [==============================] - 254s 6s/step - loss: 0.2519 - accuracy: 0.9341 - val_loss: 0.0345 - val_accuracy: 1.0000\n",
            "Epoch 43/50\n",
            "46/46 [==============================] - 246s 5s/step - loss: 0.2184 - accuracy: 0.9402 - val_loss: 0.0298 - val_accuracy: 1.0000\n",
            "Epoch 44/50\n",
            "46/46 [==============================] - 251s 5s/step - loss: 0.2066 - accuracy: 0.9518 - val_loss: 0.0272 - val_accuracy: 1.0000\n",
            "Epoch 45/50\n",
            "46/46 [==============================] - 252s 5s/step - loss: 0.2023 - accuracy: 0.9497 - val_loss: 0.0237 - val_accuracy: 1.0000\n",
            "Epoch 46/50\n",
            "46/46 [==============================] - 248s 5s/step - loss: 0.1935 - accuracy: 0.9450 - val_loss: 0.0244 - val_accuracy: 1.0000\n",
            "Epoch 47/50\n",
            "46/46 [==============================] - 252s 5s/step - loss: 0.1688 - accuracy: 0.9613 - val_loss: 0.0209 - val_accuracy: 1.0000\n",
            "Epoch 48/50\n",
            "46/46 [==============================] - 252s 5s/step - loss: 0.1698 - accuracy: 0.9586 - val_loss: 0.0178 - val_accuracy: 1.0000\n",
            "Epoch 49/50\n",
            "46/46 [==============================] - 250s 5s/step - loss: 0.1612 - accuracy: 0.9599 - val_loss: 0.0184 - val_accuracy: 1.0000\n",
            "Epoch 50/50\n",
            "46/46 [==============================] - 244s 5s/step - loss: 0.1648 - accuracy: 0.9531 - val_loss: 0.0172 - val_accuracy: 1.0000\n"
          ]
        },
        {
          "output_type": "execute_result",
          "data": {
            "text/plain": [
              "<keras.callbacks.History at 0x7f682595af40>"
            ]
          },
          "metadata": {},
          "execution_count": 27
        }
      ]
    }
  ]
}